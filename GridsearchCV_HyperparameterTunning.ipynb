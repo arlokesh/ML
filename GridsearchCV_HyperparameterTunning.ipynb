{
 "cells": [
  {
   "cell_type": "markdown",
   "metadata": {},
   "source": [
    "# GridSearchCV and RandomizedSearchCV"
   ]
  },
  {
   "cell_type": "code",
   "execution_count": 12,
   "metadata": {},
   "outputs": [],
   "source": [
    "import pandas as pd\n",
    "\n",
    "from sklearn import datasets,svm\n",
    "load_digits=datasets.load_digits()"
   ]
  },
  {
   "cell_type": "code",
   "execution_count": 13,
   "metadata": {},
   "outputs": [
    {
     "data": {
      "text/plain": [
       "{'data': array([[ 0.,  0.,  5., ...,  0.,  0.,  0.],\n",
       "        [ 0.,  0.,  0., ..., 10.,  0.,  0.],\n",
       "        [ 0.,  0.,  0., ..., 16.,  9.,  0.],\n",
       "        ...,\n",
       "        [ 0.,  0.,  1., ...,  6.,  0.,  0.],\n",
       "        [ 0.,  0.,  2., ..., 12.,  0.,  0.],\n",
       "        [ 0.,  0., 10., ..., 12.,  1.,  0.]]),\n",
       " 'target': array([0, 1, 2, ..., 8, 9, 8]),\n",
       " 'target_names': array([0, 1, 2, 3, 4, 5, 6, 7, 8, 9]),\n",
       " 'images': array([[[ 0.,  0.,  5., ...,  1.,  0.,  0.],\n",
       "         [ 0.,  0., 13., ..., 15.,  5.,  0.],\n",
       "         [ 0.,  3., 15., ..., 11.,  8.,  0.],\n",
       "         ...,\n",
       "         [ 0.,  4., 11., ..., 12.,  7.,  0.],\n",
       "         [ 0.,  2., 14., ..., 12.,  0.,  0.],\n",
       "         [ 0.,  0.,  6., ...,  0.,  0.,  0.]],\n",
       " \n",
       "        [[ 0.,  0.,  0., ...,  5.,  0.,  0.],\n",
       "         [ 0.,  0.,  0., ...,  9.,  0.,  0.],\n",
       "         [ 0.,  0.,  3., ...,  6.,  0.,  0.],\n",
       "         ...,\n",
       "         [ 0.,  0.,  1., ...,  6.,  0.,  0.],\n",
       "         [ 0.,  0.,  1., ...,  6.,  0.,  0.],\n",
       "         [ 0.,  0.,  0., ..., 10.,  0.,  0.]],\n",
       " \n",
       "        [[ 0.,  0.,  0., ..., 12.,  0.,  0.],\n",
       "         [ 0.,  0.,  3., ..., 14.,  0.,  0.],\n",
       "         [ 0.,  0.,  8., ..., 16.,  0.,  0.],\n",
       "         ...,\n",
       "         [ 0.,  9., 16., ...,  0.,  0.,  0.],\n",
       "         [ 0.,  3., 13., ..., 11.,  5.,  0.],\n",
       "         [ 0.,  0.,  0., ..., 16.,  9.,  0.]],\n",
       " \n",
       "        ...,\n",
       " \n",
       "        [[ 0.,  0.,  1., ...,  1.,  0.,  0.],\n",
       "         [ 0.,  0., 13., ...,  2.,  1.,  0.],\n",
       "         [ 0.,  0., 16., ..., 16.,  5.,  0.],\n",
       "         ...,\n",
       "         [ 0.,  0., 16., ..., 15.,  0.,  0.],\n",
       "         [ 0.,  0., 15., ..., 16.,  0.,  0.],\n",
       "         [ 0.,  0.,  2., ...,  6.,  0.,  0.]],\n",
       " \n",
       "        [[ 0.,  0.,  2., ...,  0.,  0.,  0.],\n",
       "         [ 0.,  0., 14., ..., 15.,  1.,  0.],\n",
       "         [ 0.,  4., 16., ..., 16.,  7.,  0.],\n",
       "         ...,\n",
       "         [ 0.,  0.,  0., ..., 16.,  2.,  0.],\n",
       "         [ 0.,  0.,  4., ..., 16.,  2.,  0.],\n",
       "         [ 0.,  0.,  5., ..., 12.,  0.,  0.]],\n",
       " \n",
       "        [[ 0.,  0., 10., ...,  1.,  0.,  0.],\n",
       "         [ 0.,  2., 16., ...,  1.,  0.,  0.],\n",
       "         [ 0.,  0., 15., ..., 15.,  0.,  0.],\n",
       "         ...,\n",
       "         [ 0.,  4., 16., ..., 16.,  6.,  0.],\n",
       "         [ 0.,  8., 16., ..., 16.,  8.,  0.],\n",
       "         [ 0.,  1.,  8., ..., 12.,  1.,  0.]]]),\n",
       " 'DESCR': \".. _digits_dataset:\\n\\nOptical recognition of handwritten digits dataset\\n--------------------------------------------------\\n\\n**Data Set Characteristics:**\\n\\n    :Number of Instances: 5620\\n    :Number of Attributes: 64\\n    :Attribute Information: 8x8 image of integer pixels in the range 0..16.\\n    :Missing Attribute Values: None\\n    :Creator: E. Alpaydin (alpaydin '@' boun.edu.tr)\\n    :Date: July; 1998\\n\\nThis is a copy of the test set of the UCI ML hand-written digits datasets\\nhttps://archive.ics.uci.edu/ml/datasets/Optical+Recognition+of+Handwritten+Digits\\n\\nThe data set contains images of hand-written digits: 10 classes where\\neach class refers to a digit.\\n\\nPreprocessing programs made available by NIST were used to extract\\nnormalized bitmaps of handwritten digits from a preprinted form. From a\\ntotal of 43 people, 30 contributed to the training set and different 13\\nto the test set. 32x32 bitmaps are divided into nonoverlapping blocks of\\n4x4 and the number of on pixels are counted in each block. This generates\\nan input matrix of 8x8 where each element is an integer in the range\\n0..16. This reduces dimensionality and gives invariance to small\\ndistortions.\\n\\nFor info on NIST preprocessing routines, see M. D. Garris, J. L. Blue, G.\\nT. Candela, D. L. Dimmick, J. Geist, P. J. Grother, S. A. Janet, and C.\\nL. Wilson, NIST Form-Based Handprint Recognition System, NISTIR 5469,\\n1994.\\n\\n.. topic:: References\\n\\n  - C. Kaynak (1995) Methods of Combining Multiple Classifiers and Their\\n    Applications to Handwritten Digit Recognition, MSc Thesis, Institute of\\n    Graduate Studies in Science and Engineering, Bogazici University.\\n  - E. Alpaydin, C. Kaynak (1998) Cascading Classifiers, Kybernetika.\\n  - Ken Tang and Ponnuthurai N. Suganthan and Xi Yao and A. Kai Qin.\\n    Linear dimensionalityreduction using relevance weighted LDA. School of\\n    Electrical and Electronic Engineering Nanyang Technological University.\\n    2005.\\n  - Claudio Gentile. A New Approximate Maximal Margin Classification\\n    Algorithm. NIPS. 2000.\"}"
      ]
     },
     "execution_count": 13,
     "metadata": {},
     "output_type": "execute_result"
    }
   ],
   "source": [
    "load_digits\n",
    "#df=pd.DataFrame(load_digits.data,columns=load_digits.feature_name)"
   ]
  },
  {
   "cell_type": "code",
   "execution_count": 14,
   "metadata": {},
   "outputs": [],
   "source": [
    "#dir(datasets)"
   ]
  },
  {
   "cell_type": "code",
   "execution_count": 15,
   "metadata": {},
   "outputs": [],
   "source": [
    "X=load_digits.data\n",
    "y=load_digits.target"
   ]
  },
  {
   "cell_type": "code",
   "execution_count": 17,
   "metadata": {},
   "outputs": [],
   "source": [
    "from sklearn.model_selection import train_test_split\n",
    "X_train,X_test,y_train,y_test =train_test_split(load_digits.data,load_digits.target)"
   ]
  },
  {
   "cell_type": "code",
   "execution_count": 18,
   "metadata": {},
   "outputs": [
    {
     "data": {
      "text/plain": [
       "0.5244444444444445"
      ]
     },
     "execution_count": 18,
     "metadata": {},
     "output_type": "execute_result"
    }
   ],
   "source": [
    "model=svm.SVC(kernel='rbf',C=30,gamma='auto')\n",
    "model.fit(X_train,y_train)\n",
    "model.score(X_test,y_test)"
   ]
  },
  {
   "cell_type": "code",
   "execution_count": 19,
   "metadata": {},
   "outputs": [
    {
     "data": {
      "text/plain": [
       "array([0.96388889, 0.91944444, 0.96657382, 0.9637883 , 0.92479109])"
      ]
     },
     "execution_count": 19,
     "metadata": {},
     "output_type": "execute_result"
    }
   ],
   "source": [
    "from sklearn.model_selection import cross_val_score\n",
    "\n",
    "\n",
    "cross_val_score(svm.SVC(kernel='linear',C=10,gamma='auto'),load_digits.data,load_digits.target,cv=5)"
   ]
  },
  {
   "cell_type": "code",
   "execution_count": 20,
   "metadata": {},
   "outputs": [
    {
     "data": {
      "text/plain": [
       "array([0.45277778, 0.46944444, 0.47910864, 0.47910864, 0.50139276])"
      ]
     },
     "execution_count": 20,
     "metadata": {},
     "output_type": "execute_result"
    }
   ],
   "source": [
    "cross_val_score(svm.SVC(kernel='rbf',C=10,gamma='auto'),load_digits.data,load_digits.target,cv=5)"
   ]
  },
  {
   "cell_type": "code",
   "execution_count": 21,
   "metadata": {},
   "outputs": [
    {
     "data": {
      "text/plain": [
       "array([0.45277778, 0.46944444, 0.47910864, 0.47910864, 0.50139276])"
      ]
     },
     "execution_count": 21,
     "metadata": {},
     "output_type": "execute_result"
    }
   ],
   "source": [
    "cross_val_score(svm.SVC(kernel='rbf',C=30,gamma='auto'),load_digits.data,load_digits.target,cv=5)"
   ]
  },
  {
   "cell_type": "code",
   "execution_count": 22,
   "metadata": {},
   "outputs": [],
   "source": [
    "import numpy as np"
   ]
  },
  {
   "cell_type": "code",
   "execution_count": 23,
   "metadata": {},
   "outputs": [
    {
     "data": {
      "text/plain": [
       "{'rbf_10': 0.47636645001547506,\n",
       " 'rbf_20': 0.47636645001547506,\n",
       " 'rbf_30': 0.47636645001547506,\n",
       " 'linear_10': 0.9476973073351903,\n",
       " 'linear_20': 0.9476973073351903,\n",
       " 'linear_30': 0.9476973073351903}"
      ]
     },
     "execution_count": 23,
     "metadata": {},
     "output_type": "execute_result"
    }
   ],
   "source": [
    "kernels=['rbf','linear']\n",
    "c=[10,20,30]\n",
    "\n",
    "avg_scores={}\n",
    "for kval in kernels:\n",
    "    for cval in c:\n",
    "        cv_scores=cross_val_score(svm.SVC(kernel=kval,C=cval,gamma='auto'),load_digits.data,load_digits.target,cv=5)\n",
    "        avg_scores[kval + '_'+ str(cval)]=np.average(cv_scores)\n",
    "        \n",
    "avg_scores"
   ]
  },
  {
   "cell_type": "code",
   "execution_count": 24,
   "metadata": {},
   "outputs": [],
   "source": [
    "from sklearn.model_selection import GridSearchCV"
   ]
  },
  {
   "cell_type": "code",
   "execution_count": 25,
   "metadata": {},
   "outputs": [],
   "source": [
    "clf=GridSearchCV(svm.SVC(gamma='auto'),{\n",
    "    'C': [1,10,20,30],\n",
    "    'kernel':['rbf','linear']\n",
    "},cv=5,return_train_score=False)"
   ]
  },
  {
   "cell_type": "code",
   "execution_count": 26,
   "metadata": {},
   "outputs": [
    {
     "data": {
      "text/plain": [
       "{'mean_fit_time': array([0.33256369, 0.02799988, 0.32320728, 0.02798772, 0.3308023 ,\n",
       "        0.02798471, 0.32803617, 0.02881899]),\n",
       " 'std_fit_time': array([0.01232077, 0.00140483, 0.0015401 , 0.00139229, 0.01366166,\n",
       "        0.00087919, 0.00123092, 0.00172918]),\n",
       " 'mean_score_time': array([0.03900757, 0.00778646, 0.03959951, 0.0080132 , 0.03859363,\n",
       "        0.00761175, 0.03871384, 0.00758176]),\n",
       " 'std_score_time': array([6.31459132e-04, 4.12413517e-04, 1.50840457e-03, 2.82979452e-05,\n",
       "        5.01175103e-04, 4.94805007e-04, 4.21620499e-04, 4.99382598e-04]),\n",
       " 'param_C': masked_array(data=[1, 1, 10, 10, 20, 20, 30, 30],\n",
       "              mask=[False, False, False, False, False, False, False, False],\n",
       "        fill_value='?',\n",
       "             dtype=object),\n",
       " 'param_kernel': masked_array(data=['rbf', 'linear', 'rbf', 'linear', 'rbf', 'linear',\n",
       "                    'rbf', 'linear'],\n",
       "              mask=[False, False, False, False, False, False, False, False],\n",
       "        fill_value='?',\n",
       "             dtype=object),\n",
       " 'params': [{'C': 1, 'kernel': 'rbf'},\n",
       "  {'C': 1, 'kernel': 'linear'},\n",
       "  {'C': 10, 'kernel': 'rbf'},\n",
       "  {'C': 10, 'kernel': 'linear'},\n",
       "  {'C': 20, 'kernel': 'rbf'},\n",
       "  {'C': 20, 'kernel': 'linear'},\n",
       "  {'C': 30, 'kernel': 'rbf'},\n",
       "  {'C': 30, 'kernel': 'linear'}],\n",
       " 'split0_test_score': array([0.41111111, 0.96388889, 0.45277778, 0.96388889, 0.45277778,\n",
       "        0.96388889, 0.45277778, 0.96388889]),\n",
       " 'split1_test_score': array([0.45      , 0.91944444, 0.46944444, 0.91944444, 0.46944444,\n",
       "        0.91944444, 0.46944444, 0.91944444]),\n",
       " 'split2_test_score': array([0.454039  , 0.96657382, 0.47910864, 0.96657382, 0.47910864,\n",
       "        0.96657382, 0.47910864, 0.96657382]),\n",
       " 'split3_test_score': array([0.44846797, 0.9637883 , 0.47910864, 0.9637883 , 0.47910864,\n",
       "        0.9637883 , 0.47910864, 0.9637883 ]),\n",
       " 'split4_test_score': array([0.47910864, 0.92479109, 0.50139276, 0.92479109, 0.50139276,\n",
       "        0.92479109, 0.50139276, 0.92479109]),\n",
       " 'mean_test_score': array([0.44854534, 0.94769731, 0.47636645, 0.94769731, 0.47636645,\n",
       "        0.94769731, 0.47636645, 0.94769731]),\n",
       " 'std_test_score': array([0.02176115, 0.02097775, 0.01578414, 0.02097775, 0.01578414,\n",
       "        0.02097775, 0.01578414, 0.02097775]),\n",
       " 'rank_test_score': array([8, 1, 5, 1, 5, 1, 5, 1])}"
      ]
     },
     "execution_count": 26,
     "metadata": {},
     "output_type": "execute_result"
    }
   ],
   "source": [
    "clf.fit(load_digits.data,load_digits.target)\n",
    "clf.cv_results_"
   ]
  },
  {
   "cell_type": "code",
   "execution_count": 27,
   "metadata": {},
   "outputs": [
    {
     "data": {
      "text/html": [
       "<div>\n",
       "<style scoped>\n",
       "    .dataframe tbody tr th:only-of-type {\n",
       "        vertical-align: middle;\n",
       "    }\n",
       "\n",
       "    .dataframe tbody tr th {\n",
       "        vertical-align: top;\n",
       "    }\n",
       "\n",
       "    .dataframe thead th {\n",
       "        text-align: right;\n",
       "    }\n",
       "</style>\n",
       "<table border=\"1\" class=\"dataframe\">\n",
       "  <thead>\n",
       "    <tr style=\"text-align: right;\">\n",
       "      <th></th>\n",
       "      <th>mean_fit_time</th>\n",
       "      <th>std_fit_time</th>\n",
       "      <th>mean_score_time</th>\n",
       "      <th>std_score_time</th>\n",
       "      <th>param_C</th>\n",
       "      <th>param_kernel</th>\n",
       "      <th>params</th>\n",
       "      <th>split0_test_score</th>\n",
       "      <th>split1_test_score</th>\n",
       "      <th>split2_test_score</th>\n",
       "      <th>split3_test_score</th>\n",
       "      <th>split4_test_score</th>\n",
       "      <th>mean_test_score</th>\n",
       "      <th>std_test_score</th>\n",
       "      <th>rank_test_score</th>\n",
       "    </tr>\n",
       "  </thead>\n",
       "  <tbody>\n",
       "    <tr>\n",
       "      <th>0</th>\n",
       "      <td>0.332564</td>\n",
       "      <td>0.012321</td>\n",
       "      <td>0.039008</td>\n",
       "      <td>0.000631</td>\n",
       "      <td>1</td>\n",
       "      <td>rbf</td>\n",
       "      <td>{'C': 1, 'kernel': 'rbf'}</td>\n",
       "      <td>0.411111</td>\n",
       "      <td>0.450000</td>\n",
       "      <td>0.454039</td>\n",
       "      <td>0.448468</td>\n",
       "      <td>0.479109</td>\n",
       "      <td>0.448545</td>\n",
       "      <td>0.021761</td>\n",
       "      <td>8</td>\n",
       "    </tr>\n",
       "    <tr>\n",
       "      <th>1</th>\n",
       "      <td>0.028000</td>\n",
       "      <td>0.001405</td>\n",
       "      <td>0.007786</td>\n",
       "      <td>0.000412</td>\n",
       "      <td>1</td>\n",
       "      <td>linear</td>\n",
       "      <td>{'C': 1, 'kernel': 'linear'}</td>\n",
       "      <td>0.963889</td>\n",
       "      <td>0.919444</td>\n",
       "      <td>0.966574</td>\n",
       "      <td>0.963788</td>\n",
       "      <td>0.924791</td>\n",
       "      <td>0.947697</td>\n",
       "      <td>0.020978</td>\n",
       "      <td>1</td>\n",
       "    </tr>\n",
       "    <tr>\n",
       "      <th>2</th>\n",
       "      <td>0.323207</td>\n",
       "      <td>0.001540</td>\n",
       "      <td>0.039600</td>\n",
       "      <td>0.001508</td>\n",
       "      <td>10</td>\n",
       "      <td>rbf</td>\n",
       "      <td>{'C': 10, 'kernel': 'rbf'}</td>\n",
       "      <td>0.452778</td>\n",
       "      <td>0.469444</td>\n",
       "      <td>0.479109</td>\n",
       "      <td>0.479109</td>\n",
       "      <td>0.501393</td>\n",
       "      <td>0.476366</td>\n",
       "      <td>0.015784</td>\n",
       "      <td>5</td>\n",
       "    </tr>\n",
       "    <tr>\n",
       "      <th>3</th>\n",
       "      <td>0.027988</td>\n",
       "      <td>0.001392</td>\n",
       "      <td>0.008013</td>\n",
       "      <td>0.000028</td>\n",
       "      <td>10</td>\n",
       "      <td>linear</td>\n",
       "      <td>{'C': 10, 'kernel': 'linear'}</td>\n",
       "      <td>0.963889</td>\n",
       "      <td>0.919444</td>\n",
       "      <td>0.966574</td>\n",
       "      <td>0.963788</td>\n",
       "      <td>0.924791</td>\n",
       "      <td>0.947697</td>\n",
       "      <td>0.020978</td>\n",
       "      <td>1</td>\n",
       "    </tr>\n",
       "    <tr>\n",
       "      <th>4</th>\n",
       "      <td>0.330802</td>\n",
       "      <td>0.013662</td>\n",
       "      <td>0.038594</td>\n",
       "      <td>0.000501</td>\n",
       "      <td>20</td>\n",
       "      <td>rbf</td>\n",
       "      <td>{'C': 20, 'kernel': 'rbf'}</td>\n",
       "      <td>0.452778</td>\n",
       "      <td>0.469444</td>\n",
       "      <td>0.479109</td>\n",
       "      <td>0.479109</td>\n",
       "      <td>0.501393</td>\n",
       "      <td>0.476366</td>\n",
       "      <td>0.015784</td>\n",
       "      <td>5</td>\n",
       "    </tr>\n",
       "    <tr>\n",
       "      <th>5</th>\n",
       "      <td>0.027985</td>\n",
       "      <td>0.000879</td>\n",
       "      <td>0.007612</td>\n",
       "      <td>0.000495</td>\n",
       "      <td>20</td>\n",
       "      <td>linear</td>\n",
       "      <td>{'C': 20, 'kernel': 'linear'}</td>\n",
       "      <td>0.963889</td>\n",
       "      <td>0.919444</td>\n",
       "      <td>0.966574</td>\n",
       "      <td>0.963788</td>\n",
       "      <td>0.924791</td>\n",
       "      <td>0.947697</td>\n",
       "      <td>0.020978</td>\n",
       "      <td>1</td>\n",
       "    </tr>\n",
       "    <tr>\n",
       "      <th>6</th>\n",
       "      <td>0.328036</td>\n",
       "      <td>0.001231</td>\n",
       "      <td>0.038714</td>\n",
       "      <td>0.000422</td>\n",
       "      <td>30</td>\n",
       "      <td>rbf</td>\n",
       "      <td>{'C': 30, 'kernel': 'rbf'}</td>\n",
       "      <td>0.452778</td>\n",
       "      <td>0.469444</td>\n",
       "      <td>0.479109</td>\n",
       "      <td>0.479109</td>\n",
       "      <td>0.501393</td>\n",
       "      <td>0.476366</td>\n",
       "      <td>0.015784</td>\n",
       "      <td>5</td>\n",
       "    </tr>\n",
       "    <tr>\n",
       "      <th>7</th>\n",
       "      <td>0.028819</td>\n",
       "      <td>0.001729</td>\n",
       "      <td>0.007582</td>\n",
       "      <td>0.000499</td>\n",
       "      <td>30</td>\n",
       "      <td>linear</td>\n",
       "      <td>{'C': 30, 'kernel': 'linear'}</td>\n",
       "      <td>0.963889</td>\n",
       "      <td>0.919444</td>\n",
       "      <td>0.966574</td>\n",
       "      <td>0.963788</td>\n",
       "      <td>0.924791</td>\n",
       "      <td>0.947697</td>\n",
       "      <td>0.020978</td>\n",
       "      <td>1</td>\n",
       "    </tr>\n",
       "  </tbody>\n",
       "</table>\n",
       "</div>"
      ],
      "text/plain": [
       "   mean_fit_time  std_fit_time  mean_score_time  std_score_time param_C  \\\n",
       "0       0.332564      0.012321         0.039008        0.000631       1   \n",
       "1       0.028000      0.001405         0.007786        0.000412       1   \n",
       "2       0.323207      0.001540         0.039600        0.001508      10   \n",
       "3       0.027988      0.001392         0.008013        0.000028      10   \n",
       "4       0.330802      0.013662         0.038594        0.000501      20   \n",
       "5       0.027985      0.000879         0.007612        0.000495      20   \n",
       "6       0.328036      0.001231         0.038714        0.000422      30   \n",
       "7       0.028819      0.001729         0.007582        0.000499      30   \n",
       "\n",
       "  param_kernel                         params  split0_test_score  \\\n",
       "0          rbf      {'C': 1, 'kernel': 'rbf'}           0.411111   \n",
       "1       linear   {'C': 1, 'kernel': 'linear'}           0.963889   \n",
       "2          rbf     {'C': 10, 'kernel': 'rbf'}           0.452778   \n",
       "3       linear  {'C': 10, 'kernel': 'linear'}           0.963889   \n",
       "4          rbf     {'C': 20, 'kernel': 'rbf'}           0.452778   \n",
       "5       linear  {'C': 20, 'kernel': 'linear'}           0.963889   \n",
       "6          rbf     {'C': 30, 'kernel': 'rbf'}           0.452778   \n",
       "7       linear  {'C': 30, 'kernel': 'linear'}           0.963889   \n",
       "\n",
       "   split1_test_score  split2_test_score  split3_test_score  split4_test_score  \\\n",
       "0           0.450000           0.454039           0.448468           0.479109   \n",
       "1           0.919444           0.966574           0.963788           0.924791   \n",
       "2           0.469444           0.479109           0.479109           0.501393   \n",
       "3           0.919444           0.966574           0.963788           0.924791   \n",
       "4           0.469444           0.479109           0.479109           0.501393   \n",
       "5           0.919444           0.966574           0.963788           0.924791   \n",
       "6           0.469444           0.479109           0.479109           0.501393   \n",
       "7           0.919444           0.966574           0.963788           0.924791   \n",
       "\n",
       "   mean_test_score  std_test_score  rank_test_score  \n",
       "0         0.448545        0.021761                8  \n",
       "1         0.947697        0.020978                1  \n",
       "2         0.476366        0.015784                5  \n",
       "3         0.947697        0.020978                1  \n",
       "4         0.476366        0.015784                5  \n",
       "5         0.947697        0.020978                1  \n",
       "6         0.476366        0.015784                5  \n",
       "7         0.947697        0.020978                1  "
      ]
     },
     "execution_count": 27,
     "metadata": {},
     "output_type": "execute_result"
    }
   ],
   "source": [
    "df=pd.DataFrame(clf.cv_results_)\n",
    "df"
   ]
  },
  {
   "cell_type": "code",
   "execution_count": 28,
   "metadata": {},
   "outputs": [
    {
     "data": {
      "text/html": [
       "<div>\n",
       "<style scoped>\n",
       "    .dataframe tbody tr th:only-of-type {\n",
       "        vertical-align: middle;\n",
       "    }\n",
       "\n",
       "    .dataframe tbody tr th {\n",
       "        vertical-align: top;\n",
       "    }\n",
       "\n",
       "    .dataframe thead th {\n",
       "        text-align: right;\n",
       "    }\n",
       "</style>\n",
       "<table border=\"1\" class=\"dataframe\">\n",
       "  <thead>\n",
       "    <tr style=\"text-align: right;\">\n",
       "      <th></th>\n",
       "      <th>param_C</th>\n",
       "      <th>param_kernel</th>\n",
       "      <th>mean_test_score</th>\n",
       "    </tr>\n",
       "  </thead>\n",
       "  <tbody>\n",
       "    <tr>\n",
       "      <th>0</th>\n",
       "      <td>1</td>\n",
       "      <td>rbf</td>\n",
       "      <td>0.448545</td>\n",
       "    </tr>\n",
       "    <tr>\n",
       "      <th>1</th>\n",
       "      <td>1</td>\n",
       "      <td>linear</td>\n",
       "      <td>0.947697</td>\n",
       "    </tr>\n",
       "    <tr>\n",
       "      <th>2</th>\n",
       "      <td>10</td>\n",
       "      <td>rbf</td>\n",
       "      <td>0.476366</td>\n",
       "    </tr>\n",
       "    <tr>\n",
       "      <th>3</th>\n",
       "      <td>10</td>\n",
       "      <td>linear</td>\n",
       "      <td>0.947697</td>\n",
       "    </tr>\n",
       "    <tr>\n",
       "      <th>4</th>\n",
       "      <td>20</td>\n",
       "      <td>rbf</td>\n",
       "      <td>0.476366</td>\n",
       "    </tr>\n",
       "    <tr>\n",
       "      <th>5</th>\n",
       "      <td>20</td>\n",
       "      <td>linear</td>\n",
       "      <td>0.947697</td>\n",
       "    </tr>\n",
       "    <tr>\n",
       "      <th>6</th>\n",
       "      <td>30</td>\n",
       "      <td>rbf</td>\n",
       "      <td>0.476366</td>\n",
       "    </tr>\n",
       "    <tr>\n",
       "      <th>7</th>\n",
       "      <td>30</td>\n",
       "      <td>linear</td>\n",
       "      <td>0.947697</td>\n",
       "    </tr>\n",
       "  </tbody>\n",
       "</table>\n",
       "</div>"
      ],
      "text/plain": [
       "  param_C param_kernel  mean_test_score\n",
       "0       1          rbf         0.448545\n",
       "1       1       linear         0.947697\n",
       "2      10          rbf         0.476366\n",
       "3      10       linear         0.947697\n",
       "4      20          rbf         0.476366\n",
       "5      20       linear         0.947697\n",
       "6      30          rbf         0.476366\n",
       "7      30       linear         0.947697"
      ]
     },
     "execution_count": 28,
     "metadata": {},
     "output_type": "execute_result"
    }
   ],
   "source": [
    "df[['param_C','param_kernel','mean_test_score']]"
   ]
  },
  {
   "cell_type": "code",
   "execution_count": 29,
   "metadata": {},
   "outputs": [
    {
     "data": {
      "text/plain": [
       "0.9476973073351903"
      ]
     },
     "execution_count": 29,
     "metadata": {},
     "output_type": "execute_result"
    }
   ],
   "source": [
    "clf.best_score_"
   ]
  },
  {
   "cell_type": "code",
   "execution_count": 30,
   "metadata": {},
   "outputs": [
    {
     "data": {
      "text/plain": [
       "{'C': 1, 'kernel': 'linear'}"
      ]
     },
     "execution_count": 30,
     "metadata": {},
     "output_type": "execute_result"
    }
   ],
   "source": [
    "#dir(clf)\n",
    "clf.best_params_"
   ]
  },
  {
   "cell_type": "code",
   "execution_count": 31,
   "metadata": {},
   "outputs": [
    {
     "data": {
      "text/html": [
       "<div>\n",
       "<style scoped>\n",
       "    .dataframe tbody tr th:only-of-type {\n",
       "        vertical-align: middle;\n",
       "    }\n",
       "\n",
       "    .dataframe tbody tr th {\n",
       "        vertical-align: top;\n",
       "    }\n",
       "\n",
       "    .dataframe thead th {\n",
       "        text-align: right;\n",
       "    }\n",
       "</style>\n",
       "<table border=\"1\" class=\"dataframe\">\n",
       "  <thead>\n",
       "    <tr style=\"text-align: right;\">\n",
       "      <th></th>\n",
       "      <th>param_C</th>\n",
       "      <th>param_kernel</th>\n",
       "      <th>mean_test_score</th>\n",
       "    </tr>\n",
       "  </thead>\n",
       "  <tbody>\n",
       "    <tr>\n",
       "      <th>0</th>\n",
       "      <td>10</td>\n",
       "      <td>linear</td>\n",
       "      <td>0.947697</td>\n",
       "    </tr>\n",
       "    <tr>\n",
       "      <th>1</th>\n",
       "      <td>20</td>\n",
       "      <td>rbf</td>\n",
       "      <td>0.476366</td>\n",
       "    </tr>\n",
       "  </tbody>\n",
       "</table>\n",
       "</div>"
      ],
      "text/plain": [
       "  param_C param_kernel  mean_test_score\n",
       "0      10       linear         0.947697\n",
       "1      20          rbf         0.476366"
      ]
     },
     "execution_count": 31,
     "metadata": {},
     "output_type": "execute_result"
    }
   ],
   "source": [
    "from sklearn.model_selection import RandomizedSearchCV\n",
    "rs=RandomizedSearchCV(svm.SVC(gamma='auto'),{\n",
    "    'C':[1,10,20,30],\n",
    "    'kernel':['rbf','linear']\n",
    "    },\n",
    "    cv=5,\n",
    "    return_train_score=False,\n",
    "    n_iter=2\n",
    "    )\n",
    "rs.fit(load_digits.data,load_digits.target)\n",
    "pd.DataFrame(rs.cv_results_)[['param_C','param_kernel','mean_test_score']]"
   ]
  },
  {
   "cell_type": "markdown",
   "metadata": {},
   "source": [
    "# To find the Best Model"
   ]
  },
  {
   "cell_type": "code",
   "execution_count": 32,
   "metadata": {},
   "outputs": [],
   "source": [
    "from sklearn import svm\n",
    "from sklearn.ensemble import RandomForestClassifier\n",
    "from sklearn.linear_model import LogisticRegression\n",
    "from sklearn.naive_bayes import GaussianNB\n",
    "from sklearn.naive_bayes import MultinomialNB\n",
    "from sklearn.tree import DecisionTreeClassifier"
   ]
  },
  {
   "cell_type": "code",
   "execution_count": 33,
   "metadata": {},
   "outputs": [],
   "source": [
    "model_params= {\n",
    "    'svm': {\n",
    "    'model':svm.SVC(gamma='auto'),\n",
    "    'params': {\n",
    "    'C': [1,10,20],\n",
    "    'kernel':['rbf','linear']\n",
    "    }\n",
    "    },\n",
    "    'random_forest': {\n",
    "    'model': RandomForestClassifier(),\n",
    "    'params': {\n",
    "    'n_estimators': [1,5,10]\n",
    "    }\n",
    "    },\n",
    "    'logistic_regression': {\n",
    "    'model': LogisticRegression(solver='liblinear',multi_class='auto'),\n",
    "    'params': {\n",
    "    'C': [1,5,10]\n",
    "    }\n",
    "    }\n",
    "}"
   ]
  },
  {
   "cell_type": "code",
   "execution_count": 35,
   "metadata": {},
   "outputs": [],
   "source": [
    "scores=[]\n",
    "\n",
    "for model_name,mp in model_params.items():\n",
    "    clf= GridSearchCV(mp['model'],mp['params'],cv=5,return_train_score=False)\n",
    "    clf.fit(load_digits.data,load_digits.target)\n",
    "    scores.append({\n",
    "        'model': model_name,\n",
    "        'best_score':clf.best_score_,\n",
    "        'best_params': clf.best_params_\n",
    "             \n",
    "        })"
   ]
  },
  {
   "cell_type": "code",
   "execution_count": 36,
   "metadata": {},
   "outputs": [],
   "source": [
    "df1=pd.DataFrame(scores,columns=['model','best_score','best_params'])"
   ]
  },
  {
   "cell_type": "code",
   "execution_count": 37,
   "metadata": {},
   "outputs": [
    {
     "data": {
      "text/html": [
       "<div>\n",
       "<style scoped>\n",
       "    .dataframe tbody tr th:only-of-type {\n",
       "        vertical-align: middle;\n",
       "    }\n",
       "\n",
       "    .dataframe tbody tr th {\n",
       "        vertical-align: top;\n",
       "    }\n",
       "\n",
       "    .dataframe thead th {\n",
       "        text-align: right;\n",
       "    }\n",
       "</style>\n",
       "<table border=\"1\" class=\"dataframe\">\n",
       "  <thead>\n",
       "    <tr style=\"text-align: right;\">\n",
       "      <th></th>\n",
       "      <th>model</th>\n",
       "      <th>best_score</th>\n",
       "      <th>best_params</th>\n",
       "    </tr>\n",
       "  </thead>\n",
       "  <tbody>\n",
       "    <tr>\n",
       "      <th>0</th>\n",
       "      <td>svm</td>\n",
       "      <td>0.947697</td>\n",
       "      <td>{'C': 1, 'kernel': 'linear'}</td>\n",
       "    </tr>\n",
       "    <tr>\n",
       "      <th>1</th>\n",
       "      <td>random_forest</td>\n",
       "      <td>0.899302</td>\n",
       "      <td>{'n_estimators': 10}</td>\n",
       "    </tr>\n",
       "    <tr>\n",
       "      <th>2</th>\n",
       "      <td>logistic_regression</td>\n",
       "      <td>0.922114</td>\n",
       "      <td>{'C': 1}</td>\n",
       "    </tr>\n",
       "  </tbody>\n",
       "</table>\n",
       "</div>"
      ],
      "text/plain": [
       "                 model  best_score                   best_params\n",
       "0                  svm    0.947697  {'C': 1, 'kernel': 'linear'}\n",
       "1        random_forest    0.899302          {'n_estimators': 10}\n",
       "2  logistic_regression    0.922114                      {'C': 1}"
      ]
     },
     "execution_count": 37,
     "metadata": {},
     "output_type": "execute_result"
    }
   ],
   "source": [
    "df1"
   ]
  },
  {
   "cell_type": "markdown",
   "metadata": {},
   "source": [
    "# To find best model of few more"
   ]
  },
  {
   "cell_type": "code",
   "execution_count": 38,
   "metadata": {},
   "outputs": [],
   "source": [
    "model_params= {\n",
    "    'svm': {\n",
    "    'model':svm.SVC(gamma='auto'),\n",
    "    'params': {\n",
    "    'C': [1,10,20],\n",
    "    'kernel':['rbf','linear']\n",
    "    }\n",
    "    },\n",
    "    'random_forest': {\n",
    "    'model': RandomForestClassifier(),\n",
    "    'params': {\n",
    "    'n_estimators': [1,5,10]\n",
    "    }\n",
    "    },\n",
    "    'logistic_regression': {\n",
    "    'model': LogisticRegression(solver='liblinear',multi_class='auto'),\n",
    "    'params': {\n",
    "    'C': [1,5,10]\n",
    "    }\n",
    "    },\n",
    "    'naive_bayes_gaussian': {\n",
    "    'model': GaussianNB(),\n",
    "    'params': {}\n",
    "    },\n",
    "    'naive_bayes_multinomial': {\n",
    "    'model': MultinomialNB(),\n",
    "    'params': {}\n",
    "    },\n",
    "    'decision_tree': {\n",
    "    'model': DecisionTreeClassifier(),\n",
    "    'params': {\n",
    "    'criterion': ['gini','entropy'],\n",
    "    }\n",
    "    }\n",
    "}"
   ]
  },
  {
   "cell_type": "code",
   "execution_count": 46,
   "metadata": {},
   "outputs": [],
   "source": [
    "score1=[]\n",
    "\n",
    "for model_name,mp in model_params.items():\n",
    "    clf1=GridSearchCV(mp['model'],mp['params'],cv=5,return_train_score=False)\n",
    "    clf1.fit(load_digits.data,load_digits.target)\n",
    "    score1.append({\n",
    "        'model': model_name,\n",
    "        'best_score': clf1.best_score_,\n",
    "        'best_params':clf.best_params_\n",
    "    })"
   ]
  },
  {
   "cell_type": "code",
   "execution_count": 49,
   "metadata": {},
   "outputs": [],
   "source": [
    "df2=pd.DataFrame(score1,columns=['model','best_score','best_params'])"
   ]
  },
  {
   "cell_type": "code",
   "execution_count": 50,
   "metadata": {},
   "outputs": [
    {
     "data": {
      "text/html": [
       "<div>\n",
       "<style scoped>\n",
       "    .dataframe tbody tr th:only-of-type {\n",
       "        vertical-align: middle;\n",
       "    }\n",
       "\n",
       "    .dataframe tbody tr th {\n",
       "        vertical-align: top;\n",
       "    }\n",
       "\n",
       "    .dataframe thead th {\n",
       "        text-align: right;\n",
       "    }\n",
       "</style>\n",
       "<table border=\"1\" class=\"dataframe\">\n",
       "  <thead>\n",
       "    <tr style=\"text-align: right;\">\n",
       "      <th></th>\n",
       "      <th>model</th>\n",
       "      <th>best_score</th>\n",
       "      <th>best_params</th>\n",
       "    </tr>\n",
       "  </thead>\n",
       "  <tbody>\n",
       "    <tr>\n",
       "      <th>0</th>\n",
       "      <td>svm</td>\n",
       "      <td>0.947697</td>\n",
       "      <td>{'C': 1}</td>\n",
       "    </tr>\n",
       "    <tr>\n",
       "      <th>1</th>\n",
       "      <td>random_forest</td>\n",
       "      <td>0.899305</td>\n",
       "      <td>{'C': 1}</td>\n",
       "    </tr>\n",
       "    <tr>\n",
       "      <th>2</th>\n",
       "      <td>logistic_regression</td>\n",
       "      <td>0.922114</td>\n",
       "      <td>{'C': 1}</td>\n",
       "    </tr>\n",
       "    <tr>\n",
       "      <th>3</th>\n",
       "      <td>naive_bayes_gaussian</td>\n",
       "      <td>0.806928</td>\n",
       "      <td>{'C': 1}</td>\n",
       "    </tr>\n",
       "    <tr>\n",
       "      <th>4</th>\n",
       "      <td>naive_bayes_multinomial</td>\n",
       "      <td>0.870350</td>\n",
       "      <td>{'C': 1}</td>\n",
       "    </tr>\n",
       "    <tr>\n",
       "      <th>5</th>\n",
       "      <td>decision_tree</td>\n",
       "      <td>0.815271</td>\n",
       "      <td>{'C': 1}</td>\n",
       "    </tr>\n",
       "  </tbody>\n",
       "</table>\n",
       "</div>"
      ],
      "text/plain": [
       "                     model  best_score best_params\n",
       "0                      svm    0.947697    {'C': 1}\n",
       "1            random_forest    0.899305    {'C': 1}\n",
       "2      logistic_regression    0.922114    {'C': 1}\n",
       "3     naive_bayes_gaussian    0.806928    {'C': 1}\n",
       "4  naive_bayes_multinomial    0.870350    {'C': 1}\n",
       "5            decision_tree    0.815271    {'C': 1}"
      ]
     },
     "execution_count": 50,
     "metadata": {},
     "output_type": "execute_result"
    }
   ],
   "source": [
    "df2"
   ]
  },
  {
   "cell_type": "markdown",
   "metadata": {},
   "source": [
    "# Here SVM is giving Good accuracy best score of 94.7% than any of models"
   ]
  },
  {
   "cell_type": "code",
   "execution_count": null,
   "metadata": {},
   "outputs": [],
   "source": []
  }
 ],
 "metadata": {
  "kernelspec": {
   "display_name": "Python 3",
   "language": "python",
   "name": "python3"
  },
  "language_info": {
   "codemirror_mode": {
    "name": "ipython",
    "version": 3
   },
   "file_extension": ".py",
   "mimetype": "text/x-python",
   "name": "python",
   "nbconvert_exporter": "python",
   "pygments_lexer": "ipython3",
   "version": "3.7.6"
  }
 },
 "nbformat": 4,
 "nbformat_minor": 4
}
